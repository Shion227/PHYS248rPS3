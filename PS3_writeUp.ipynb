{
 "cells": [
  {
   "cell_type": "markdown",
   "metadata": {},
   "source": [
    "# Physics 248R Problem Set #3\n",
    "\n",
    "Sicne steps from (1) through (4) is abotu installation, this python notebook only has answer for the step (5) of this problem set.\n"
   ]
  },
  {
   "cell_type": "markdown",
   "metadata": {},
   "source": [
    "### a) How the showers compare depending on the viewing direction?"
   ]
  },
  {
   "cell_type": "markdown",
   "metadata": {},
   "source": [
    "After some try and error, I figured out that the default viewing's coordinate is (-1,0,0). Through multiple runs, in (-1,0,0) coordinate view, most of the particles were clustering in the left half, the middle third of the entire height of the detector.\n",
    "When the viewing direction was changed to (0,0,1) coordinate, it became appearent that the particles were clustering in the middle third of the entire height and width of the detector.\n",
    "It was unclear how deep particles traveled in the (0,0,1) coordinate, but (-1,0,0) cordinate could complement that in formation, while the density of the clustering was unclear in (-1,0,0) coordinate, and (0,0,1) coordinate could supply that infomration. "
   ]
  },
  {
   "cell_type": "markdown",
   "metadata": {},
   "source": [
    "### b) Difference between electron shower and photon shower"
   ]
  },
  {
   "cell_type": "markdown",
   "metadata": {},
   "source": [
    "It was very hard to see the differences between electron shower and gamma shower in both viewing point -which makes sense, because electrons can give rise to photons and photons can create electrons, and which of those two was the first particle to enter the detector does not make much difference."
   ]
  },
  {
   "cell_type": "markdown",
   "metadata": {},
   "source": [
    "### c) Energy deposition as a function of length and radius "
   ]
  },
  {
   "cell_type": "markdown",
   "metadata": {},
   "source": [
    "The particle's firing energies I tried were 20GeV, 50GeV, 100GeV, 250GeV, 500GeV, 750GeV, and 1000GeV.\n",
    "The plots are stored in a subdirectory under ./Phys248rPS3/.\n",
    "- \"lAr-rvsE\" has plots for energy deposition as a function of radius\n",
    "- \"lAr-zvsE\" has plots for energy deposition as a function of lengths\n",
    "All those histogramas were created by macro file ps3.C in the same directory. \n",
    "When histograms are plotted and normalized, in both cases of the radius and lengths, the distribution very similar across the different firing energy values. "
   ]
  },
  {
   "cell_type": "markdown",
   "metadata": {},
   "source": [
    "### d) At what radius is 95% of the shower energy contained?"
   ]
  },
  {
   "cell_type": "markdown",
   "metadata": {},
   "source": [
    "\n",
    "The plot of the cumlative energy as a function of radius and lengths are also stored in a subdirectory named \"lAr-rcumlative\" under ./Phys248rPS3/.\n",
    "Since teh energy deposition as a function of radius were very similar among different firing energy values, it also makes sense that we see very similar plots for the cuulative energy as a function of radius. \n",
    "At all firing energy values used, 95% of the shower energy was contained at around r = 250mm = 25cm. Since the Moliere radius for the liquid Argon is 9cm, this length is almost twice the Moliere radius. "
   ]
  },
  {
   "cell_type": "markdown",
   "metadata": {},
   "source": [
    "### e) steps a)~d), but with stainless steel and lead\n"
   ]
  },
  {
   "cell_type": "markdown",
   "metadata": {},
   "source": [
    "#### e.a) \n",
    "When a single photon was fired into the detector, I could see a cluster of particles in both pf the materials as I did in part a). However, the size of the cluster was much smaller in both cases, in both of the viewpoints. \n",
    "The cluster in the lead was slightly smaller than the stainless."
   ]
  },
  {
   "cell_type": "markdown",
   "metadata": {},
   "source": [
    "#### e.b) \n",
    "The statement in part b) can be repeated for the case of stainless steel as well. However, similarly to e.1a), the cluster size for the electron is also much smaller. "
   ]
  },
  {
   "cell_type": "markdown",
   "metadata": {},
   "source": [
    "#### e.c)\n",
    "I performed the simulation with the same energy values as I did in part c), and the plots are also stored in different subdirectory in ./Phys248rPS3/ directory. \n",
    "- \"SS-rvsE\" has plots for energy deposition as a function of radius for Stainless Steel\n",
    "- \"SS-zvsE\" has plots for energy deposition as a function of lengths for Stainless Steel\n",
    "- \"Pb-rvsE\" has plots for energy deposition as a function of radius for lead\n",
    "- \"Pb-zvsE\" has plots for energy deposition as a function of lengths for lead\n",
    "For both cases of stainless steel and lead, each type of plot looks, again, very similar to each other across different firing energy. "
   ]
  },
  {
   "cell_type": "markdown",
   "metadata": {},
   "source": [
    "#### e.1d)\n",
    "The plot of the cumlative energy as a function of radius and lengths are also stored in a subdirectory named \"SS-rcumlative\" for Stainless Steel and \"Pb-rcumlative\" for lead, under ./Phys248rPS3/.\n",
    "They were very similar within each material type, again, as the firing energy does not affect energy distribution as could be seen in e.c).\n",
    "The Moliere radius of the Iron (89% of the Stainless Steel) is 1.7cm, while 95% of the shower energy was contained within around 40mm radius. This fits the propositino that this radius value is almost twice the Moliere radius. \n",
    "For the lead, Moliere radius is 1.6cm, and the 95% of the energy was contained within radius = 30mm = 3cm, which is around twice the Moliere radius. "
   ]
  },
  {
   "cell_type": "markdown",
   "metadata": {},
   "source": [
    "### f) Behaviour of different particles at 20GeV\n",
    "For this simulation, I used liquid argon as the volume of the detector. \n",
    "\n",
    "#### Proton/Pi+/neutron at 20 GeV (average deposition: around 15GeV)\n",
    "Generally speaking, the total number of the particles created by those particles entering the detector were very large.\n",
    "Similarities between the behaviours of thsoe three particles can be reasoned that they are all creating a hadronic shower.\n",
    "However, the average energy deposition tends to be slightly higher for Pi+ compared to proton and neutron. This can be explained by the fact that Pi+ is a charged particle, and it also looses energy through electronic energy loss in addition to the hadronic shower. \n",
    "\n",
    "#### Pi0 at 20 GeV (average deposition: around 20 GeV)\n",
    "The clustering was much smaller than Proton or Pi+, and looked very smilar to photon and electron cases in terms of the shape.\n",
    "This can be explained because pi0 mainly decays into photon pairs or electron pairs.\n",
    "\n",
    "#### mu- at 20 GeV (average deposition: around 2 GeV)\n",
    "Muon almost passes through the detector without much interaction. Since muon is much heavier than electron, it emits less bremsstrahlung energy, and deposits less energy.\n",
    "\n",
    "#### tau- at 20 geV (average deposition: ranging from 2 GeV to 20 GeV)\n",
    "This seemingly random patter of the energy deposition can be explained by what tau- decays into. Tau- can decay into lighter leptons. When tau deays into electron, we see energies deposited into the material and similar behaviour to part a) and b). However, when it decays into mu-, since mu- does not deposit any energy into the material, the energy average deposition can be as low as what we saw for the mu- case. \n"
   ]
  },
  {
   "cell_type": "code",
   "execution_count": null,
   "metadata": {},
   "outputs": [],
   "source": []
  }
 ],
 "metadata": {
  "kernelspec": {
   "display_name": "Python 3",
   "language": "python",
   "name": "python3"
  },
  "language_info": {
   "codemirror_mode": {
    "name": "ipython",
    "version": 3
   },
   "file_extension": ".py",
   "mimetype": "text/x-python",
   "name": "python",
   "nbconvert_exporter": "python",
   "pygments_lexer": "ipython3",
   "version": "3.8.3"
  }
 },
 "nbformat": 4,
 "nbformat_minor": 4
}
